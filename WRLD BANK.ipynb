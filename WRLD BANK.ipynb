{
  "nbformat": 4,
  "nbformat_minor": 0,
  "metadata": {
    "colab": {
      "provenance": [],
      "collapsed_sections": [],
      "authorship_tag": "ABX9TyMA0C0jkp8LavcXu0jcF/3n",
      "include_colab_link": true
    },
    "kernelspec": {
      "name": "python3",
      "display_name": "Python 3"
    },
    "language_info": {
      "name": "python"
    }
  },
  "cells": [
    {
      "cell_type": "markdown",
      "metadata": {
        "id": "view-in-github",
        "colab_type": "text"
      },
      "source": [
        "<a href=\"https://colab.research.google.com/github/Vibenshus-Gymnasium-Pro/assignment-1-Omar0559/blob/main/WRLD%20BANK.ipynb\" target=\"_parent\"><img src=\"https://colab.research.google.com/assets/colab-badge.svg\" alt=\"Open In Colab\"/></a>"
      ]
    },
    {
      "cell_type": "code",
      "execution_count": 1,
      "metadata": {
        "id": "P9b-xZoPeqVp"
      },
      "outputs": [],
      "source": [
        "import pandas as pd\n",
        "import numpy as np\n",
        "import matplotlib.pyplot as mp\n",
        "import plotly.express as px\n",
        "import seaborn as sns"
      ]
    },
    {
      "cell_type": "code",
      "source": [
        "path = 'https://raw.githubusercontent.com/CSSEGISandData/COVID-19/master/csse_covid_19_data/csse_covid_19_daily_reports/05-25-2020.csv'\n",
        "df = pd.read_csv(path)\n",
        "df.head()"
      ],
      "metadata": {
        "id": "otOKUMafexfU"
      },
      "execution_count": null,
      "outputs": []
    },
    {
      "cell_type": "code",
      "source": [
        "df.drop(['Admin2', 'FIPS', 'Combined_Key', 'Province_State', 'Last_Update', 'Long_', 'Lat'], axis = 1, inplace = True)"
      ],
      "metadata": {
        "id": "J_fyOe9Pe0Zh"
      },
      "execution_count": 3,
      "outputs": []
    },
    {
      "cell_type": "code",
      "source": [
        "world = df.group(\"Country\")['Confirmed', 'Deaths', 'Recovered', 'Active'].sum().reset_ind()"
      ],
      "metadata": {
        "id": "KduzrdbOe0-y"
      },
      "execution_count": null,
      "outputs": []
    },
    {
      "cell_type": "code",
      "source": [
        "top_chart = world.sort_values(by = 'Deaths', ascending = False).reset_ind(drop = True)"
      ],
      "metadata": {
        "id": "xXeLF30Be0er"
      },
      "execution_count": null,
      "outputs": []
    },
    {
      "cell_type": "code",
      "source": [
        "top_10 = top_chart.head(10)\n"
      ],
      "metadata": {
        "id": "aAshwBRwf1G4"
      },
      "execution_count": null,
      "outputs": []
    }
  ]
}