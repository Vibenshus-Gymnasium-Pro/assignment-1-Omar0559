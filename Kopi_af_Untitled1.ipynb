{
  "nbformat": 4,
  "nbformat_minor": 0,
  "metadata": {
    "colab": {
      "provenance": [],
      "collapsed_sections": []
    },
    "kernelspec": {
      "name": "python3",
      "display_name": "Python 3"
    },
    "language_info": {
      "name": "python"
    }
  },
  "cells": [
    {
      "cell_type": "code",
      "execution_count": null,
      "metadata": {
        "id": "lcwGRHWqzHXI"
      },
      "outputs": [],
      "source": [
        "cubes = []\n",
        "for number in range (1,11):\n",
        "  cube = number**3\n",
        "  cubes.append(cube)\n",
        "  for cibe in cubes:\n",
        "    print(cube)\n",
        "    "
      ]
    },
    {
      "cell_type": "code",
      "source": [
        "cubes = [number**3 for number in range(1,11)]\n",
        "\n",
        "for cube in cubes:\n",
        "print(cube)\n"
      ],
      "metadata": {
        "id": "FlDO1GrnzbUh"
      },
      "execution_count": null,
      "outputs": []
    },
    {
      "cell_type": "code",
      "source": [
        "current_users = ['eric', 'willie', 'admin', 'Ever']\n",
        "new_users = ['sarah', 'Willie', 'PHIL','ever','lona']\n",
        "\n",
        "current_users_lower = [user.lower()for user in current_users]\n",
        "\n",
        "for new_users in new_users:\n",
        "  if new_user.lower()in current_users_lower:\n",
        "    print(\"Sorry\"+ new_user + \",that name is taken.\")\n",
        "    else:\n",
        "      print(\"Great,\" + new_user + \"is still available\")\n",
        "\n",
        "      "
      ],
      "metadata": {
        "id": "po-JPF5uzkq4"
      },
      "execution_count": null,
      "outputs": []
    },
    {
      "cell_type": "code",
      "source": [
        "numbers = list(range(1,10))\n",
        "\n",
        "for number in numbers: \n",
        "  if number ==1:\n",
        "    print(\"1st\")\n",
        "    elif number ==2 \n",
        "    print(\"2nd\")\n",
        "    elif number ==3\n",
        "    print(\"3rd\")\n",
        "    else:\n",
        "      print(str(number)+\"th\")\n",
        "      "
      ],
      "metadata": {
        "id": "qgkXCzGf06sF"
      },
      "execution_count": null,
      "outputs": []
    },
    {
      "cell_type": "code",
      "source": [
        "rivers = {\n",
        "    \n",
        "'nile: 'egypt', \n",
        "'mississippi: 'united states',\n",
        "'fraser': 'canada',\n",
        "'kuskokwim': 'alaska',\n",
        "'yangtze:' 'china',\n",
        "}\n",
        "\n",
        "for river, country in rivers.items():\n",
        "  print \"The\" + river.title()+ \"flows trough\" + country.title()+\".\"\n",
        "\n",
        "  print(\"\\nThe following rivers are included in this data set:\")\n",
        "  for river in river.keys():\n",
        "    print(\"-\" + river.title())\n",
        "    print (\"\\nThe following countries are included in this data set:\")\n",
        "    for country in rivers.values():\n",
        "      print(\"-\" + country.title())\n",
        "      "
      ],
      "metadata": {
        "id": "KaA4ge7d1SQH"
      },
      "execution_count": null,
      "outputs": []
    },
    {
      "cell_type": "code",
      "source": [
        "prompt = \"\\nwhat topping would you like on your pizza?\"\n",
        "prompt += \"\\nenter 'quit'when you are finished:\"\n",
        "\n",
        "while true: \n",
        "  topping = input(prompt)\n",
        "  if topping != 'quit':\n",
        "    print(\"i'll add\" + topping + \"to your pizza.\")\n",
        "    else:\n",
        "      break "
      ],
      "metadata": {
        "id": "SvtIhRzK3so5"
      },
      "execution_count": null,
      "outputs": []
    },
    {
      "cell_type": "code",
      "source": [
        "sandwich_orders = ['veggie', 'grilled cheese', 'turkey', 'roast beef'] \n",
        "finished_sandwiches = []\n",
        "\n",
        "while sandwich_orders:\n",
        "  current_sandwich = sandwich_orders.pop()\n",
        "  print(\"i'm working on your\" + current_sandwich + \"sandwich.\")\n",
        "  finished_sandwiches.append(current_sandwich)\n",
        "\n",
        "  print(\"\\n\")\n",
        "  for sandwich in finished_sandwiches:\n",
        "    print(\"i made a\" + sandwich + \"sandwhich\")"
      ],
      "metadata": {
        "id": "JgvDP5WM4YMi"
      },
      "execution_count": null,
      "outputs": []
    }
  ]
}